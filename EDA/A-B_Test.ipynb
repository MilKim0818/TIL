{
  "cells": [
    {
      "cell_type": "markdown",
      "metadata": {
        "id": "QTSBdcCjNkAi"
      },
      "source": [
        ">hunet [Big Data 한입] 파이썬을 활용한 경영데이터 분석 강의 (교수 : 가톨릭대학교 이홍주 교수님) 실습 파일입니다.  \n",
        ">실습 자료를 토대로 추가적인 코드 작성, 자료 정리를 함께 했습니다."
      ]
    },
    {
      "cell_type": "markdown",
      "metadata": {
        "id": "GFCUgAm-UBGr"
      },
      "source": [
        "# A/B 테스트란?\n",
        "* 실험 참여자를 임의의 두 집단으로 나누고, 하나의 집단에게는 대안 A를 다른 집단에게는 대안 B를 체험하게 한다.\n",
        "* 과학에서 무작위 비교연구([Randomized-controlled trial](https://en.wikipedia.org/wiki/Randomized_controlled_trial))라 불리는 방법을 인터넷 마케팅에 적용함.\n",
        "* 두 집단 중 어떤 집단이 더 높은 성과를 보이는지 측정하여 대안별 성과를 파악하는 것\n",
        "  * 대안별 성과 : 목표에 따라 클릭률, 재방문율, 구매전환율 등이 될 수 있음.\n",
        "* 활용 케이스 : 웹사이트 또는 모바일 앱의 디자인, 인터페이스, 상품 배치 등을 개선하기 위해서 사용"
      ]
    },
    {
      "cell_type": "markdown",
      "metadata": {
        "id": "S7nYdSNoaqG_"
      },
      "source": [
        "# 1. t-test\n",
        "* 두 집단의 매장 체류 시간, 구매 금액 등 숫자 값의 평균을 비교하는 방법\n",
        "\n",
        "* 실습 (5월 고객, 6월 고객 평균 연령 비교하기)"
      ]
    },
    {
      "cell_type": "markdown",
      "metadata": {},
      "source": [
        "1. 필요한 라이브러리 임포트"
      ]
    },
    {
      "cell_type": "code",
      "execution_count": 3,
      "metadata": {
        "id": "vAFX80WiM1Mi"
      },
      "outputs": [],
      "source": [
        "# 파일 경로\n",
        "from glob import glob\n",
        "# 통계 \n",
        "import scipy\n",
        "import pingouin as pg\n",
        "# 데이터 분석\n",
        "import pandas as pd\n",
        "import numpy as np\n",
        "# 시각화\n",
        "import matplotlib.pyplot as plt\n",
        "import seaborn as sns\n",
        "import plotly.express as px"
      ]
    },
    {
      "cell_type": "code",
      "execution_count": 5,
      "metadata": {},
      "outputs": [
        {
          "data": {
            "text/plain": [
              "['/Users/kmr/Desktop/PythonWorkspace/practice/down_data/customer5.csv',\n",
              " '/Users/kmr/Desktop/PythonWorkspace/practice/down_data/customer6.csv',\n",
              " '/Users/kmr/Desktop/PythonWorkspace/practice/down_data/customerAll.csv',\n",
              " '/Users/kmr/Desktop/PythonWorkspace/practice/down_data/customerChurn.csv',\n",
              " '/Users/kmr/Desktop/PythonWorkspace/practice/down_data/customerRegression.csv',\n",
              " '/Users/kmr/Desktop/PythonWorkspace/practice/down_data/customerRegressionTest.csv',\n",
              " '/Users/kmr/Desktop/PythonWorkspace/practice/down_data/customerSales.csv']"
            ]
          },
          "execution_count": 5,
          "metadata": {},
          "output_type": "execute_result"
        }
      ],
      "source": [
        "# 파일 경로\n",
        "file_path = '/Users/kmr/Desktop/PythonWorkspace/practice/down_data'\n",
        "file_list = sorted(glob(f'{file_path}/customer*.csv'))\n",
        "file_list"
      ]
    },
    {
      "cell_type": "code",
      "execution_count": 9,
      "metadata": {
        "colab": {
          "base_uri": "https://localhost:8080/",
          "height": 848
        },
        "id": "uzc7fezxcmaD",
        "outputId": "49ec5980-5491-462e-e6c5-38b24ba2f984"
      },
      "outputs": [
        {
          "name": "stdout",
          "output_type": "stream",
          "text": [
            "5월 고객 데이터 shape : (2000, 6)\n"
          ]
        },
        {
          "data": {
            "text/html": [
              "<div>\n",
              "<style scoped>\n",
              "    .dataframe tbody tr th:only-of-type {\n",
              "        vertical-align: middle;\n",
              "    }\n",
              "\n",
              "    .dataframe tbody tr th {\n",
              "        vertical-align: top;\n",
              "    }\n",
              "\n",
              "    .dataframe thead th {\n",
              "        text-align: right;\n",
              "    }\n",
              "</style>\n",
              "<table border=\"1\" class=\"dataframe\">\n",
              "  <thead>\n",
              "    <tr style=\"text-align: right;\">\n",
              "      <th></th>\n",
              "      <th>regcust</th>\n",
              "      <th>age</th>\n",
              "      <th>sex</th>\n",
              "      <th>type</th>\n",
              "      <th>regyear</th>\n",
              "      <th>regmon</th>\n",
              "    </tr>\n",
              "  </thead>\n",
              "  <tbody>\n",
              "    <tr>\n",
              "      <th>0</th>\n",
              "      <td>arllzxpd</td>\n",
              "      <td>20</td>\n",
              "      <td>M</td>\n",
              "      <td>Premium</td>\n",
              "      <td>2016</td>\n",
              "      <td>5</td>\n",
              "    </tr>\n",
              "    <tr>\n",
              "      <th>1</th>\n",
              "      <td>ckbxzluh</td>\n",
              "      <td>31</td>\n",
              "      <td>M</td>\n",
              "      <td>Premium</td>\n",
              "      <td>2016</td>\n",
              "      <td>5</td>\n",
              "    </tr>\n",
              "    <tr>\n",
              "      <th>2</th>\n",
              "      <td>mzpabcxt</td>\n",
              "      <td>28</td>\n",
              "      <td>M</td>\n",
              "      <td>Premium</td>\n",
              "      <td>2016</td>\n",
              "      <td>5</td>\n",
              "    </tr>\n",
              "    <tr>\n",
              "      <th>3</th>\n",
              "      <td>yxpsucwv</td>\n",
              "      <td>20</td>\n",
              "      <td>M</td>\n",
              "      <td>Basic</td>\n",
              "      <td>2016</td>\n",
              "      <td>5</td>\n",
              "    </tr>\n",
              "    <tr>\n",
              "      <th>4</th>\n",
              "      <td>xqatbtna</td>\n",
              "      <td>30</td>\n",
              "      <td>M</td>\n",
              "      <td>Premium</td>\n",
              "      <td>2016</td>\n",
              "      <td>5</td>\n",
              "    </tr>\n",
              "  </tbody>\n",
              "</table>\n",
              "</div>"
            ],
            "text/plain": [
              "    regcust  age sex     type  regyear  regmon\n",
              "0  arllzxpd   20   M  Premium     2016       5\n",
              "1  ckbxzluh   31   M  Premium     2016       5\n",
              "2  mzpabcxt   28   M  Premium     2016       5\n",
              "3  yxpsucwv   20   M    Basic     2016       5\n",
              "4  xqatbtna   30   M  Premium     2016       5"
            ]
          },
          "metadata": {},
          "output_type": "display_data"
        },
        {
          "name": "stdout",
          "output_type": "stream",
          "text": [
            "6월 고객 데이터 shape : (2500, 6)\n"
          ]
        },
        {
          "data": {
            "text/html": [
              "<div>\n",
              "<style scoped>\n",
              "    .dataframe tbody tr th:only-of-type {\n",
              "        vertical-align: middle;\n",
              "    }\n",
              "\n",
              "    .dataframe tbody tr th {\n",
              "        vertical-align: top;\n",
              "    }\n",
              "\n",
              "    .dataframe thead th {\n",
              "        text-align: right;\n",
              "    }\n",
              "</style>\n",
              "<table border=\"1\" class=\"dataframe\">\n",
              "  <thead>\n",
              "    <tr style=\"text-align: right;\">\n",
              "      <th></th>\n",
              "      <th>regcust</th>\n",
              "      <th>age</th>\n",
              "      <th>sex</th>\n",
              "      <th>type</th>\n",
              "      <th>regyear</th>\n",
              "      <th>regmon</th>\n",
              "    </tr>\n",
              "  </thead>\n",
              "  <tbody>\n",
              "    <tr>\n",
              "      <th>0</th>\n",
              "      <td>gncowqlx</td>\n",
              "      <td>27</td>\n",
              "      <td>F</td>\n",
              "      <td>Basic</td>\n",
              "      <td>2016</td>\n",
              "      <td>6</td>\n",
              "    </tr>\n",
              "    <tr>\n",
              "      <th>1</th>\n",
              "      <td>walcuucd</td>\n",
              "      <td>29</td>\n",
              "      <td>F</td>\n",
              "      <td>Basic</td>\n",
              "      <td>2016</td>\n",
              "      <td>6</td>\n",
              "    </tr>\n",
              "    <tr>\n",
              "      <th>2</th>\n",
              "      <td>wwwedfyo</td>\n",
              "      <td>28</td>\n",
              "      <td>F</td>\n",
              "      <td>Basic</td>\n",
              "      <td>2016</td>\n",
              "      <td>6</td>\n",
              "    </tr>\n",
              "    <tr>\n",
              "      <th>3</th>\n",
              "      <td>ztexaqff</td>\n",
              "      <td>17</td>\n",
              "      <td>M</td>\n",
              "      <td>Basic</td>\n",
              "      <td>2016</td>\n",
              "      <td>6</td>\n",
              "    </tr>\n",
              "    <tr>\n",
              "      <th>4</th>\n",
              "      <td>uwqfxptk</td>\n",
              "      <td>21</td>\n",
              "      <td>M</td>\n",
              "      <td>Premium</td>\n",
              "      <td>2016</td>\n",
              "      <td>6</td>\n",
              "    </tr>\n",
              "  </tbody>\n",
              "</table>\n",
              "</div>"
            ],
            "text/plain": [
              "    regcust  age sex     type  regyear  regmon\n",
              "0  gncowqlx   27   F    Basic     2016       6\n",
              "1  walcuucd   29   F    Basic     2016       6\n",
              "2  wwwedfyo   28   F    Basic     2016       6\n",
              "3  ztexaqff   17   M    Basic     2016       6\n",
              "4  uwqfxptk   21   M  Premium     2016       6"
            ]
          },
          "metadata": {},
          "output_type": "display_data"
        }
      ],
      "source": [
        "# 데이터프레임 생성하기\n",
        "df_5 = pd.read_csv(file_list[0])\n",
        "df_6 = pd.read_csv(file_list[1])\n",
        "print('5월 고객 데이터 shape :', df_5.shape)\n",
        "display(df_5.head())\n",
        "print('6월 고객 데이터 shape :', df_6.shape)\n",
        "display(df_6.head())"
      ]
    },
    {
      "cell_type": "code",
      "execution_count": 17,
      "metadata": {
        "colab": {
          "base_uri": "https://localhost:8080/",
          "height": 424
        },
        "id": "-6iMlJ58kEcI",
        "outputId": "5ae12cdb-7824-4cc1-bcdb-67c6d268b930"
      },
      "outputs": [
        {
          "data": {
            "text/html": [
              "<div>\n",
              "<style scoped>\n",
              "    .dataframe tbody tr th:only-of-type {\n",
              "        vertical-align: middle;\n",
              "    }\n",
              "\n",
              "    .dataframe tbody tr th {\n",
              "        vertical-align: top;\n",
              "    }\n",
              "\n",
              "    .dataframe thead th {\n",
              "        text-align: right;\n",
              "    }\n",
              "</style>\n",
              "<table border=\"1\" class=\"dataframe\">\n",
              "  <thead>\n",
              "    <tr style=\"text-align: right;\">\n",
              "      <th></th>\n",
              "      <th>regcust</th>\n",
              "      <th>age</th>\n",
              "      <th>sex</th>\n",
              "      <th>type</th>\n",
              "      <th>regyear</th>\n",
              "      <th>regmon</th>\n",
              "    </tr>\n",
              "  </thead>\n",
              "  <tbody>\n",
              "    <tr>\n",
              "      <th>0</th>\n",
              "      <td>arllzxpd</td>\n",
              "      <td>20</td>\n",
              "      <td>M</td>\n",
              "      <td>Premium</td>\n",
              "      <td>2016</td>\n",
              "      <td>5</td>\n",
              "    </tr>\n",
              "    <tr>\n",
              "      <th>1</th>\n",
              "      <td>ckbxzluh</td>\n",
              "      <td>31</td>\n",
              "      <td>M</td>\n",
              "      <td>Premium</td>\n",
              "      <td>2016</td>\n",
              "      <td>5</td>\n",
              "    </tr>\n",
              "    <tr>\n",
              "      <th>2</th>\n",
              "      <td>mzpabcxt</td>\n",
              "      <td>28</td>\n",
              "      <td>M</td>\n",
              "      <td>Premium</td>\n",
              "      <td>2016</td>\n",
              "      <td>5</td>\n",
              "    </tr>\n",
              "    <tr>\n",
              "      <th>3</th>\n",
              "      <td>yxpsucwv</td>\n",
              "      <td>20</td>\n",
              "      <td>M</td>\n",
              "      <td>Basic</td>\n",
              "      <td>2016</td>\n",
              "      <td>5</td>\n",
              "    </tr>\n",
              "    <tr>\n",
              "      <th>4</th>\n",
              "      <td>xqatbtna</td>\n",
              "      <td>30</td>\n",
              "      <td>M</td>\n",
              "      <td>Premium</td>\n",
              "      <td>2016</td>\n",
              "      <td>5</td>\n",
              "    </tr>\n",
              "    <tr>\n",
              "      <th>...</th>\n",
              "      <td>...</td>\n",
              "      <td>...</td>\n",
              "      <td>...</td>\n",
              "      <td>...</td>\n",
              "      <td>...</td>\n",
              "      <td>...</td>\n",
              "    </tr>\n",
              "    <tr>\n",
              "      <th>4495</th>\n",
              "      <td>dblccxfn</td>\n",
              "      <td>20</td>\n",
              "      <td>M</td>\n",
              "      <td>Basic</td>\n",
              "      <td>2016</td>\n",
              "      <td>6</td>\n",
              "    </tr>\n",
              "    <tr>\n",
              "      <th>4496</th>\n",
              "      <td>phjksvgs</td>\n",
              "      <td>11</td>\n",
              "      <td>F</td>\n",
              "      <td>Basic</td>\n",
              "      <td>2016</td>\n",
              "      <td>6</td>\n",
              "    </tr>\n",
              "    <tr>\n",
              "      <th>4497</th>\n",
              "      <td>sivijrhz</td>\n",
              "      <td>26</td>\n",
              "      <td>M</td>\n",
              "      <td>Premium</td>\n",
              "      <td>2016</td>\n",
              "      <td>6</td>\n",
              "    </tr>\n",
              "    <tr>\n",
              "      <th>4498</th>\n",
              "      <td>awmqbkdg</td>\n",
              "      <td>28</td>\n",
              "      <td>M</td>\n",
              "      <td>Basic</td>\n",
              "      <td>2016</td>\n",
              "      <td>6</td>\n",
              "    </tr>\n",
              "    <tr>\n",
              "      <th>4499</th>\n",
              "      <td>ncvehukb</td>\n",
              "      <td>15</td>\n",
              "      <td>F</td>\n",
              "      <td>Basic</td>\n",
              "      <td>2016</td>\n",
              "      <td>6</td>\n",
              "    </tr>\n",
              "  </tbody>\n",
              "</table>\n",
              "<p>4500 rows × 6 columns</p>\n",
              "</div>"
            ],
            "text/plain": [
              "       regcust  age sex     type  regyear  regmon\n",
              "0     arllzxpd   20   M  Premium     2016       5\n",
              "1     ckbxzluh   31   M  Premium     2016       5\n",
              "2     mzpabcxt   28   M  Premium     2016       5\n",
              "3     yxpsucwv   20   M    Basic     2016       5\n",
              "4     xqatbtna   30   M  Premium     2016       5\n",
              "...        ...  ...  ..      ...      ...     ...\n",
              "4495  dblccxfn   20   M    Basic     2016       6\n",
              "4496  phjksvgs   11   F    Basic     2016       6\n",
              "4497  sivijrhz   26   M  Premium     2016       6\n",
              "4498  awmqbkdg   28   M    Basic     2016       6\n",
              "4499  ncvehukb   15   F    Basic     2016       6\n",
              "\n",
              "[4500 rows x 6 columns]"
            ]
          },
          "execution_count": 17,
          "metadata": {},
          "output_type": "execute_result"
        }
      ],
      "source": [
        "df_customer5to6 = pd.concat([df_5, df_6], ignore_index=True)\n",
        "df_customer5to6"
      ]
    },
    {
      "cell_type": "code",
      "execution_count": 18,
      "metadata": {
        "colab": {
          "base_uri": "https://localhost:8080/"
        },
        "id": "bVNOdTu0pw-_",
        "outputId": "260d3721-d132-43b8-904d-18e061fb3d57"
      },
      "outputs": [
        {
          "name": "stdout",
          "output_type": "stream",
          "text": [
            "<class 'pandas.core.frame.DataFrame'>\n",
            "RangeIndex: 4500 entries, 0 to 4499\n",
            "Data columns (total 6 columns):\n",
            " #   Column   Non-Null Count  Dtype \n",
            "---  ------   --------------  ----- \n",
            " 0   regcust  4500 non-null   object\n",
            " 1   age      4500 non-null   int64 \n",
            " 2   sex      4453 non-null   object\n",
            " 3   type     4461 non-null   object\n",
            " 4   regyear  4500 non-null   int64 \n",
            " 5   regmon   4500 non-null   int64 \n",
            "dtypes: int64(3), object(3)\n",
            "memory usage: 211.1+ KB\n"
          ]
        }
      ],
      "source": [
        "df_customer5to6.info()"
      ]
    },
    {
      "cell_type": "code",
      "execution_count": 19,
      "metadata": {
        "colab": {
          "base_uri": "https://localhost:8080/"
        },
        "id": "BFCKgzR6p0La",
        "outputId": "126e9d14-751a-498e-ca6f-da8762b583f0"
      },
      "outputs": [
        {
          "name": "stdout",
          "output_type": "stream",
          "text": [
            "<class 'pandas.core.frame.DataFrame'>\n",
            "RangeIndex: 4500 entries, 0 to 4499\n",
            "Data columns (total 6 columns):\n",
            " #   Column   Non-Null Count  Dtype \n",
            "---  ------   --------------  ----- \n",
            " 0   regcust  4500 non-null   object\n",
            " 1   age      4500 non-null   int64 \n",
            " 2   sex      4453 non-null   object\n",
            " 3   type     4461 non-null   object\n",
            " 4   regyear  4500 non-null   int64 \n",
            " 5   regmon   4500 non-null   object\n",
            "dtypes: int64(2), object(4)\n",
            "memory usage: 211.1+ KB\n"
          ]
        }
      ],
      "source": [
        "df_customer5to6['regmon'] = df_customer5to6['regmon'].astype('str')\n",
        "df_customer5to6.info()"
      ]
    },
    {
      "cell_type": "code",
      "execution_count": 14,
      "metadata": {
        "id": "YEdswip8enLL"
      },
      "outputs": [],
      "source": [
        "cstmr5_age = df_5['age']\n",
        "cstmr6_age = df_6['age']"
      ]
    },
    {
      "cell_type": "markdown",
      "metadata": {},
      "source": [
        "* 5, 6월에 가입한 고객의 평균 연령 구하기"
      ]
    },
    {
      "cell_type": "code",
      "execution_count": 15,
      "metadata": {
        "colab": {
          "base_uri": "https://localhost:8080/"
        },
        "id": "J9emTP42hcCZ",
        "outputId": "1101898c-b8b4-473c-dbda-6a3884a57f78"
      },
      "outputs": [
        {
          "name": "stdout",
          "output_type": "stream",
          "text": [
            "24.5705\n",
            "25.0844\n"
          ]
        },
        {
          "data": {
            "text/plain": [
              "count    2000.000000\n",
              "mean       24.570500\n",
              "std         8.749246\n",
              "min        10.000000\n",
              "25%        17.000000\n",
              "50%        24.000000\n",
              "75%        32.000000\n",
              "max        40.000000\n",
              "Name: age, dtype: float64"
            ]
          },
          "metadata": {},
          "output_type": "display_data"
        },
        {
          "data": {
            "text/plain": [
              "count    2500.000000\n",
              "mean       25.084400\n",
              "std         9.006271\n",
              "min        10.000000\n",
              "25%        17.000000\n",
              "50%        25.000000\n",
              "75%        33.000000\n",
              "max        40.000000\n",
              "Name: age, dtype: float64"
            ]
          },
          "metadata": {},
          "output_type": "display_data"
        },
        {
          "data": {
            "text/plain": [
              "(None, None)"
            ]
          },
          "execution_count": 15,
          "metadata": {},
          "output_type": "execute_result"
        }
      ],
      "source": [
        "# 평균 확인하기\n",
        "# 방법1 (넘파이 활용)\n",
        "print(np.mean(cstmr5_age)), print(np.mean(cstmr6_age))\n",
        "\n",
        "# 방법2 (판다스 기술통계 활용)\n",
        "display(cstmr5_age.describe()), display(cstmr6_age.describe())"
      ]
    },
    {
      "cell_type": "markdown",
      "metadata": {},
      "source": [
        "### 질문 : 5월에 가입한 고객의 평균 연령은 24.57세, 6월에 가입한 고객 평균 연령은 25.08세일 때, 두 집단의 평균 연령이 같다고 봐야하는가?\n",
        "* 평균 연령 값이 유사하고, 확률밀도함수도 유사\n",
        "* 5월 가입 고객은 10대가 좀 더 많음\n",
        "* 6월 가입 고객은 30대가 좀 더 많음"
      ]
    },
    {
      "cell_type": "code",
      "execution_count": 20,
      "metadata": {
        "colab": {
          "base_uri": "https://localhost:8080/",
          "height": 467
        },
        "id": "bzJTd6blovzu",
        "outputId": "8936d85c-6f37-4916-fab6-25bc2067b45a"
      },
      "outputs": [
        {
          "data": {
            "image/png": "[encoded data removed]",
            "text/plain": [
              "<Figure size 640x480 with 1 Axes>"
            ]
          },
          "metadata": {},
          "output_type": "display_data"
        }
      ],
      "source": [
        "sns.boxplot(data=df_customer5to6, x='age', y='regmon' );"
      ]
    },
    {
      "cell_type": "markdown",
      "metadata": {},
      "source": [
        "* 확률밀도함수 (kde)"
      ]
    },
    {
      "cell_type": "code",
      "execution_count": 21,
      "metadata": {
        "colab": {
          "base_uri": "https://localhost:8080/",
          "height": 483
        },
        "id": "d5DMPbAsl-wF",
        "outputId": "2d5513b8-02b2-436f-ef8f-b2c6d6df15ca"
      },
      "outputs": [
        {
          "data": {
            "image/png": "[encoded data removed]",
            "text/plain": [
              "<Figure size 1200x500 with 1 Axes>"
            ]
          },
          "metadata": {},
          "output_type": "display_data"
        }
      ],
      "source": [
        "# seaborn으로 시각화\n",
        "plt.figure(figsize=(12, 5))\n",
        "plt.subplot(121)\n",
        "sns.kdeplot(data=df_5, x='age', color='skyblue')\n",
        "plt.subplot(121)\n",
        "sns.kdeplot(data=df_6, x='age')\n",
        "plt.show()"
      ]
    },
    {
      "cell_type": "code",
      "execution_count": 23,
      "metadata": {
        "colab": {
          "base_uri": "https://localhost:8080/",
          "height": 448
        },
        "id": "z9CfxeANla7L",
        "outputId": "d2b04b76-a49c-4589-9848-8bf9ced8939c"
      },
      "outputs": [
        {
          "data": {
            "image/png": "[encoded data removed]",
            "text/plain": [
              "<Figure size 640x480 with 1 Axes>"
            ]
          },
          "metadata": {},
          "output_type": "display_data"
        }
      ],
      "source": [
        "# matplotlib으로 시각화\n",
        "df_5.age.plot(kind='kde', color='blue')\n",
        "df_6.age.plot(kind='kde', color='red')\n",
        "plt.show()"
      ]
    },
    {
      "cell_type": "markdown",
      "metadata": {},
      "source": [
        "* T-Test 진행하기"
      ]
    },
    {
      "cell_type": "code",
      "execution_count": 24,
      "metadata": {
        "colab": {
          "base_uri": "https://localhost:8080/",
          "height": 125
        },
        "id": "On0bS9CJe9pF",
        "outputId": "5d5958fd-69c0-4414-b4ea-454771cc0067"
      },
      "outputs": [
        {
          "data": {
            "text/html": [
              "<div>\n",
              "<style scoped>\n",
              "    .dataframe tbody tr th:only-of-type {\n",
              "        vertical-align: middle;\n",
              "    }\n",
              "\n",
              "    .dataframe tbody tr th {\n",
              "        vertical-align: top;\n",
              "    }\n",
              "\n",
              "    .dataframe thead th {\n",
              "        text-align: right;\n",
              "    }\n",
              "</style>\n",
              "<table border=\"1\" class=\"dataframe\">\n",
              "  <thead>\n",
              "    <tr style=\"text-align: right;\">\n",
              "      <th></th>\n",
              "      <th>T</th>\n",
              "      <th>dof</th>\n",
              "      <th>alternative</th>\n",
              "      <th>p-val</th>\n",
              "      <th>CI95%</th>\n",
              "      <th>cohen-d</th>\n",
              "      <th>BF10</th>\n",
              "      <th>power</th>\n",
              "    </tr>\n",
              "  </thead>\n",
              "  <tbody>\n",
              "    <tr>\n",
              "      <th>T-test</th>\n",
              "      <td>-1.932449</td>\n",
              "      <td>4333.556919</td>\n",
              "      <td>two-sided</td>\n",
              "      <td>0.053369</td>\n",
              "      <td>[-1.04, 0.01]</td>\n",
              "      <td>0.057787</td>\n",
              "      <td>0.217</td>\n",
              "      <td>0.486437</td>\n",
              "    </tr>\n",
              "  </tbody>\n",
              "</table>\n",
              "</div>"
            ],
            "text/plain": [
              "               T          dof alternative     p-val          CI95%   cohen-d  \\\n",
              "T-test -1.932449  4333.556919   two-sided  0.053369  [-1.04, 0.01]  0.057787   \n",
              "\n",
              "         BF10     power  \n",
              "T-test  0.217  0.486437  "
            ]
          },
          "execution_count": 24,
          "metadata": {},
          "output_type": "execute_result"
        }
      ],
      "source": [
        "# 방법 1. pingouin 라이브러리 활용\n",
        "pg.ttest(cstmr5_age, cstmr6_age)"
      ]
    },
    {
      "cell_type": "code",
      "execution_count": 14,
      "metadata": {
        "colab": {
          "base_uri": "https://localhost:8080/"
        },
        "id": "z62KXSK4fpYz",
        "outputId": "5b8b4452-f547-43c9-fa64-ad3099be33c9"
      },
      "outputs": [
        {
          "data": {
            "text/plain": [
              "False"
            ]
          },
          "execution_count": 14,
          "metadata": {},
          "output_type": "execute_result"
        }
      ],
      "source": [
        "# 귀무가설을 기각할 수 있는지 p-value와 유의수준 비교하기\n",
        "# '평균의 차이가 없다'라는 귀무가설을 기각할 수 없으므로 유보하기.\n",
        "p = 0.053369\n",
        "유의수준 = 0.05\n",
        "p < 유의수준"
      ]
    },
    {
      "cell_type": "code",
      "execution_count": 16,
      "metadata": {
        "colab": {
          "base_uri": "https://localhost:8080/"
        },
        "id": "rSdQ3H5fhBda",
        "outputId": "3d3b6c05-b428-4047-8246-c0532d1a8d4c"
      },
      "outputs": [
        {
          "data": {
            "text/plain": [
              "-0.515"
            ]
          },
          "execution_count": 16,
          "metadata": {},
          "output_type": "execute_result"
        }
      ],
      "source": [
        "(-1.04 + 0.01) / 2"
      ]
    }
  ],
  "metadata": {
    "colab": {
      "authorship_tag": "ABX9TyPqssA3yZywWXEa8AgUzLn8",
      "include_colab_link": true,
      "mount_file_id": "1QbkOp0JHk814D3ArQzsQ_5OCZ7_dAW0E",
      "provenance": []
    },
    "kernelspec": {
      "display_name": "Python 3",
      "name": "python3"
    },
    "language_info": {
      "codemirror_mode": {
        "name": "ipython",
        "version": 3
      },
      "file_extension": ".py",
      "mimetype": "text/x-python",
      "name": "python",
      "nbconvert_exporter": "python",
      "pygments_lexer": "ipython3",
      "version": "3.9.13"
    }
  },
  "nbformat": 4,
  "nbformat_minor": 0
}
