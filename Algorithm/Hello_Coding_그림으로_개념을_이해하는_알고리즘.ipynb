{
  "nbformat": 4,
  "nbformat_minor": 0,
  "metadata": {
    "colab": {
      "provenance": []
    },
    "kernelspec": {
      "name": "python3",
      "display_name": "Python 3"
    },
    "language_info": {
      "name": "python"
    }
  },
  "cells": [
    {
      "cell_type": "markdown",
      "source": [
        "# 이진 탐색 (Binary Search)"
      ],
      "metadata": {
        "id": "KO70OEYBLNxX"
      }
    },
    {
      "cell_type": "code",
      "execution_count": 10,
      "metadata": {
        "id": "I83oCBIfLEDN"
      },
      "outputs": [],
      "source": [
        "# binary search 함수\n",
        "def binary_search(list, item):\n",
        "    # 전체 리스트 중에서 탐색해야 하는 부분\n",
        "    low = 0\n",
        "    high = len(list) - 1\n",
        "\n",
        "    # 탐색 범위 줄이기\n",
        "    while low <= high:\n",
        "        mid = (low + high) // 2\n",
        "        guess = list[mid]\n",
        "        if guess == item:\n",
        "            return mid\n",
        "        elif guess > item:\n",
        "            high = mid - 1\n",
        "        else:\n",
        "            low = mid + 1\n",
        "    return None"
      ]
    },
    {
      "cell_type": "code",
      "source": [
        "my_list = [1, 3, 5, 7, 9]\n",
        "\n",
        "print(binary_search(my_list, 7))\n",
        "print(binary_search(my_list, -1))"
      ],
      "metadata": {
        "colab": {
          "base_uri": "https://localhost:8080/"
        },
        "id": "i5NZva6nOSfK",
        "outputId": "a4165425-6cd9-43c7-bf03-b48513d20bdc"
      },
      "execution_count": 12,
      "outputs": [
        {
          "output_type": "stream",
          "name": "stdout",
          "text": [
            "3\n",
            "None\n"
          ]
        }
      ]
    }
  ]
}